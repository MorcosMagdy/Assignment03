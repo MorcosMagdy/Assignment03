{
 "cells": [
  {
   "cell_type": "markdown",
   "id": "56a78ed4",
   "metadata": {},
   "source": [
    "# Task1 : Rectangle class"
   ]
  },
  {
   "cell_type": "markdown",
   "id": "8a0fa079",
   "metadata": {},
   "source": [
    "   "
   ]
  },
  {
   "cell_type": "code",
   "execution_count": 46,
   "id": "b643b33f",
   "metadata": {},
   "outputs": [],
   "source": [
    "# Rectangle class ... build a rectangle with length and width attributes.\n",
    "class Rectangle:\n",
    "    def __init__(self,leng,widt):\n",
    "        self.length = leng\n",
    "        self.width = widt\n",
    "\n",
    "\n",
    "# Perimeter method to calculate the perimeter of the rectangle\n",
    "    def Perimeter(self):\n",
    "        prm = (self.length + self.width)*2\n",
    "        return prm\n",
    "    \n",
    "#Area method to calculate the area of the rectangle.\n",
    "    def Area(self):\n",
    "        A = self.length * self.width\n",
    "        return A\n",
    "\n",
    "# display that display the length, width, perimeter and area of an object created using an instantiation on rectangle class.\n",
    "    def display(self):\n",
    "        print('Length = ',self.length)\n",
    "        print('Width = ',self.width)\n",
    "        print('Perimeter = ',Rect.Perimeter())\n",
    "        print('Area = ',Rect.Area())\n",
    "        return ' '\n",
    "\n",
    "Rect = Rectangle(10,10)"
   ]
  },
  {
   "cell_type": "code",
   "execution_count": 47,
   "id": "6cb6eec9",
   "metadata": {},
   "outputs": [
    {
     "name": "stdout",
     "output_type": "stream",
     "text": [
      "100\n"
     ]
    }
   ],
   "source": [
    "print(Rect.Area())"
   ]
  },
  {
   "cell_type": "code",
   "execution_count": 48,
   "id": "2dd993ce",
   "metadata": {},
   "outputs": [
    {
     "name": "stdout",
     "output_type": "stream",
     "text": [
      "40\n"
     ]
    }
   ],
   "source": [
    "print(Rect.Perimeter())"
   ]
  },
  {
   "cell_type": "code",
   "execution_count": 49,
   "id": "13994012",
   "metadata": {},
   "outputs": [
    {
     "name": "stdout",
     "output_type": "stream",
     "text": [
      "Length =  10\n",
      "Width =  10\n",
      "Perimeter =  40\n",
      "Area =  100\n",
      " \n"
     ]
    }
   ],
   "source": [
    "print(Rect.display())"
   ]
  },
  {
   "cell_type": "code",
   "execution_count": 55,
   "id": "624a883c",
   "metadata": {},
   "outputs": [
    {
     "name": "stdout",
     "output_type": "stream",
     "text": [
      "Length =  10\n",
      "Width =  10\n",
      "Perimeter =  40\n",
      "Area =  100\n",
      " \n",
      "Volume =  1000\n"
     ]
    }
   ],
   "source": [
    "#Parallelepipede child class inheriting from the Rectangle class and with a height attribute\n",
    "class Parallelepipede(Rectangle):\n",
    "    \n",
    "    def __init__(self, length, width , height):\n",
    "        \n",
    "        Rectangle.__init__(self, length, width)\n",
    "        self.height = height\n",
    "\n",
    "#Volume method to calculate the volume of the Parallelepiped.\n",
    "    def volume(self):\n",
    "        return self.length*self.width*self.height\n",
    "        \n",
    "myParallelepipede = Parallelepipede(10,10,10)\n",
    "print(Rect.display())\n",
    "print(\"Volume = \" , myParallelepipede.volume())"
   ]
  },
  {
   "cell_type": "markdown",
   "id": "982b485c",
   "metadata": {},
   "source": [
    "# Task 2: Person class and child Student class"
   ]
  },
  {
   "cell_type": "markdown",
   "id": "620de3b4",
   "metadata": {},
   "source": [
    "  "
   ]
  },
  {
   "cell_type": "code",
   "execution_count": 54,
   "id": "baae3665",
   "metadata": {},
   "outputs": [
    {
     "name": "stdout",
     "output_type": "stream",
     "text": [
      "name :  Morcos Magdy Tawfik\n",
      "age =  22\n",
      " \n"
     ]
    }
   ],
   "source": [
    "#Python class Person with attributes: name and age of type string\n",
    "class Person:\n",
    "    def __init__(self,nam,ag):\n",
    "        self.name = nam\n",
    "        self.age = ag\n",
    "\n",
    "#display method that displays the name and age of an object created via the Person class.\n",
    "    def display(self):\n",
    "        names = self.name\n",
    "        print('name : ',names)\n",
    "        ages = self.age\n",
    "        print('age = ',ages)\n",
    "        return ' '\n",
    "    \n",
    "Prsn = Person('Morcos Magdy Tawfik',22)\n",
    "print(Prsn.display())"
   ]
  },
  {
   "cell_type": "code",
   "execution_count": 65,
   "id": "a862deb1",
   "metadata": {},
   "outputs": [
    {
     "name": "stdout",
     "output_type": "stream",
     "text": [
      "name :  Morcos Magdy Tawfik\n",
      "age =  22\n",
      "Section :  2\n",
      "   \n"
     ]
    }
   ],
   "source": [
    "#child class Student which inherits from the Person class and which also has a section attribute.\n",
    "class child_class_student(Person):\n",
    "    def __init__(self,nam,ag,sec):\n",
    "        Person.__init__(self,nam,ag)\n",
    "        self.section = sec\n",
    "\n",
    "#displayStudent that displays the name, age and section of an object created via the Student class.\n",
    "    def displayStudent(self):\n",
    "        print('Section : ',self.section)\n",
    "        return ' '\n",
    "    \n",
    "nccs = child_class_student('Morcos Magdy Tawfik',22,2)\n",
    "print(nccs.display(),nccs.displayStudent())    "
   ]
  },
  {
   "cell_type": "markdown",
   "id": "74d4c611",
   "metadata": {},
   "source": [
    "# Task 3: Computation class"
   ]
  },
  {
   "cell_type": "markdown",
   "id": "c4ee0438",
   "metadata": {},
   "source": [
    " "
   ]
  },
  {
   "cell_type": "code",
   "execution_count": 61,
   "id": "244d08dc",
   "metadata": {},
   "outputs": [
    {
     "name": "stdout",
     "output_type": "stream",
     "text": [
      "The numbers 13 and 7 are co-primes\n",
      "List of divisors of 18: [1, 2, 3, 6, 9, 18]\n",
      "List of prime divisors of 18: [2, 3]\n",
      "\n",
      "the multiplication table of: 1 is:\n",
      "1 x 1 = 1\n",
      "2 x 1 = 2\n",
      "3 x 1 = 3\n",
      "4 x 1 = 4\n",
      "5 x 1 = 5\n",
      "6 x 1 = 6\n",
      "7 x 1 = 7\n",
      "8 x 1 = 8\n",
      "9 x 1 = 9\n",
      "\n",
      "the multiplication table of: 2 is:\n",
      "1 x 2 = 2\n",
      "2 x 2 = 4\n",
      "3 x 2 = 6\n",
      "4 x 2 = 8\n",
      "5 x 2 = 10\n",
      "6 x 2 = 12\n",
      "7 x 2 = 14\n",
      "8 x 2 = 16\n",
      "9 x 2 = 18\n",
      "\n",
      "the multiplication table of: 3 is:\n",
      "1 x 3 = 3\n",
      "2 x 3 = 6\n",
      "3 x 3 = 9\n",
      "4 x 3 = 12\n",
      "5 x 3 = 15\n",
      "6 x 3 = 18\n",
      "7 x 3 = 21\n",
      "8 x 3 = 24\n",
      "9 x 3 = 27\n",
      "\n",
      "the multiplication table of: 4 is:\n",
      "1 x 4 = 4\n",
      "2 x 4 = 8\n",
      "3 x 4 = 12\n",
      "4 x 4 = 16\n",
      "5 x 4 = 20\n",
      "6 x 4 = 24\n",
      "7 x 4 = 28\n",
      "8 x 4 = 32\n",
      "9 x 4 = 36\n",
      "\n",
      "the multiplication table of: 5 is:\n",
      "1 x 5 = 5\n",
      "2 x 5 = 10\n",
      "3 x 5 = 15\n",
      "4 x 5 = 20\n",
      "5 x 5 = 25\n",
      "6 x 5 = 30\n",
      "7 x 5 = 35\n",
      "8 x 5 = 40\n",
      "9 x 5 = 45\n",
      "\n",
      "the multiplication table of: 6 is:\n",
      "1 x 6 = 6\n",
      "2 x 6 = 12\n",
      "3 x 6 = 18\n",
      "4 x 6 = 24\n",
      "5 x 6 = 30\n",
      "6 x 6 = 36\n",
      "7 x 6 = 42\n",
      "8 x 6 = 48\n",
      "9 x 6 = 54\n",
      "\n",
      "the multiplication table of: 7 is:\n",
      "1 x 7 = 7\n",
      "2 x 7 = 14\n",
      "3 x 7 = 21\n",
      "4 x 7 = 28\n",
      "5 x 7 = 35\n",
      "6 x 7 = 42\n",
      "7 x 7 = 49\n",
      "8 x 7 = 56\n",
      "9 x 7 = 63\n",
      "\n",
      "the multiplication table of: 8 is:\n",
      "1 x 8 = 8\n",
      "2 x 8 = 16\n",
      "3 x 8 = 24\n",
      "4 x 8 = 32\n",
      "5 x 8 = 40\n",
      "6 x 8 = 48\n",
      "7 x 8 = 56\n",
      "8 x 8 = 64\n",
      "9 x 8 = 72\n",
      "\n",
      "the multiplication table of: 9 is:\n",
      "1 x 9 = 9\n",
      "2 x 9 = 18\n",
      "3 x 9 = 27\n",
      "4 x 9 = 36\n",
      "5 x 9 = 45\n",
      "6 x 9 = 54\n",
      "7 x 9 = 63\n",
      "8 x 9 = 72\n",
      "9 x 9 = 81\n"
     ]
    }
   ],
   "source": [
    "class Computation:\n",
    "    def __init__ (self):\n",
    "        pass\n",
    "#Factorial\n",
    "    def factorial(self, n):\n",
    "        j = 1\n",
    "        for i in range (1, n + 1):\n",
    "            j = j * i\n",
    "        return j\n",
    "    \n",
    "    \n",
    "#Sum of the first n numbers\n",
    "    def sum (self, n):\n",
    "        j = 1\n",
    "        for i in range (1, n + 1):\n",
    "            j = j + i\n",
    "        return j\n",
    "    \n",
    "    \n",
    "#Primality test of a number\n",
    "    def testPrim (self, n):\n",
    "        j = 0\n",
    "        for i in range (1, n + 1):\n",
    "            if (n% i == 0):\n",
    "                j = j + 1\n",
    "        if (j == 2):\n",
    "            return True\n",
    "        else:\n",
    "            return False\n",
    "\n",
    "#Primality test of two integers\n",
    "    def testprims (self, n, m):\n",
    "        \n",
    "        # initialize the number of commons divisors\n",
    "        commonDiv = 0\n",
    "        for i in range (1, n + 1):\n",
    "            if (n% i == 0 and m% i == 0):\n",
    "                commonDiv = commonDiv + 1\n",
    "        if commonDiv == 1:\n",
    "            print (\"The numbers\", n, \"and\", m, \"are co-primes\")\n",
    "        else:\n",
    "            print (\"The numbers\", n, \"and\", m, \"are not co-primes\")\n",
    "\n",
    "#Multiplication table\n",
    "    def tableMult (self, k):\n",
    "        for i in range (1,10):\n",
    "            print (i, \"x\", k, \"=\", i * k)\n",
    "\n",
    "#All multiplication tables of the numbers 1, 2, .., 9\n",
    "    def allTables (self):\n",
    "        for k in range (1,10):\n",
    "            print (\"\\nthe multiplication table of:\", k, \"is:\")\n",
    "            for i in range (1,10):\n",
    "                print (i, \"x\", k, \"=\", i * k)\n",
    "\n",
    "#list of divisors of an integer\n",
    "    def listDiv (self, n):\n",
    "        # initialization of the list of divisors\n",
    "        lDiv = []\n",
    "        for i in range (1, n + 1):\n",
    "            if (n% i == 0):\n",
    "                lDiv.append (i)\n",
    "        return lDiv\n",
    "\n",
    "#list of prime divisors of an integer\n",
    "    def listDivPrim (self, n):\n",
    "        # initialization of the list of divisors\n",
    "        lDiv = []\n",
    "        for i in range (1, n + 1):\n",
    "            if (n% i == 0 and self.testPrim (i)):\n",
    "                lDiv.append (i)\n",
    "        return lDiv\n",
    "\n",
    "# Instantiation example\n",
    "Comput= Computation ()\n",
    "Comput.testprims (13, 7)\n",
    "print (\"List of divisors of 18:\", Comput.listDiv (18))\n",
    "print (\"List of prime divisors of 18:\", Comput.listDivPrim (18))\n",
    "Comput.allTables ()"
   ]
  },
  {
   "cell_type": "markdown",
   "id": "f8aacb4d",
   "metadata": {},
   "source": [
    "# Task 4: Computation class"
   ]
  },
  {
   "cell_type": "markdown",
   "id": "b540abf5",
   "metadata": {},
   "source": [
    " "
   ]
  },
  {
   "cell_type": "code",
   "execution_count": 60,
   "id": "c5ee2919",
   "metadata": {
    "scrolled": true
   },
   "outputs": [
    {
     "name": "stdout",
     "output_type": "stream",
     "text": [
      "H\n",
      "H\n",
      "yes\n",
      "0\n",
      "e\n",
      "e\n",
      "yes\n",
      "1\n",
      "l\n",
      "l\n",
      "yes\n",
      "2\n",
      "l\n",
      "l\n",
      "yes\n",
      "3\n",
      "o\n",
      "o\n",
      "yes\n",
      "4\n",
      " \n",
      " \n",
      "yes\n",
      "5\n",
      "M\n",
      "M\n",
      "yes\n",
      "6\n",
      "o\n",
      "o\n",
      "yes\n",
      "7\n",
      "r\n",
      "r\n",
      "yes\n",
      "8\n",
      "c\n",
      "c\n",
      "yes\n",
      "9\n",
      "o\n",
      "o\n",
      "yes\n",
      "10\n",
      "s\n",
      "s\n",
      "yes\n",
      "11\n",
      "None\n"
     ]
    }
   ],
   "source": [
    "# UNDER WORK!!\n",
    "\n",
    "# S1 = 'Helloo'\n",
    "# S2 = 'Hello Morcos'\n",
    "\n",
    "\n",
    "# S3 = []\n",
    "# S4 = []\n",
    "# S5 = []\n",
    "\n",
    "# n = 0\n",
    "# for i in S1:\n",
    "#     if i == i:\n",
    "#         S3.append(S1[n])\n",
    "#         n = n+1\n",
    "\n",
    "# nn = 0\n",
    "# for i in S2:\n",
    "#     if i == i:\n",
    "#         S4.append(S2[nn])\n",
    "#         nn = nn+1\n",
    "\n",
    "\n",
    "        \n",
    "\n",
    "# class Stringss:\n",
    "#     def __init__(self,str1,str2):\n",
    "#         self.stringone = str1\n",
    "#         self.stringtwo = str2\n",
    "    \n",
    "    \n",
    "#     def commsubseq(self):\n",
    "#         a = 0\n",
    "#         for i in S3 and S4:\n",
    "#             if S3[a] == S4[a]:\n",
    "#                 print(S3[a])\n",
    "#                 print(S4[a])\n",
    "#                 print('yes')\n",
    "#                 S5.append(S3[a])\n",
    "#                 a = a+1\n",
    "#                 print(len(S5)-1)\n",
    "                \n",
    "#             elif S3[a] != S4[a]:\n",
    "#                 print(S3[a])\n",
    "#                 print(S4[a])\n",
    "#                 print('No')\n",
    "#                 a = a+1\n",
    "\n",
    "\n",
    "# SubS = Stringss(S3,S4)\n",
    "# print(SubS.commsubseq())\n",
    "\n"
   ]
  },
  {
   "cell_type": "markdown",
   "id": "c39a15d5",
   "metadata": {},
   "source": [
    "**SORRY FOR NO COMMENTS BUT I WILL TRY UPDATED IT WITH COMMENTS TO EXPLAIN ANY LINE CODE**\n",
    "\n",
    "\n",
    "**THANK YOU ❤️**"
   ]
  }
 ],
 "metadata": {
  "kernelspec": {
   "display_name": "Python 3 (ipykernel)",
   "language": "python",
   "name": "python3"
  },
  "language_info": {
   "codemirror_mode": {
    "name": "ipython",
    "version": 3
   },
   "file_extension": ".py",
   "mimetype": "text/x-python",
   "name": "python",
   "nbconvert_exporter": "python",
   "pygments_lexer": "ipython3",
   "version": "3.9.12"
  }
 },
 "nbformat": 4,
 "nbformat_minor": 5
}
